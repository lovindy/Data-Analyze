{
 "cells": [
  {
   "cell_type": "code",
   "execution_count": 1,
   "metadata": {},
   "outputs": [
    {
     "name": "stdout",
     "output_type": "stream",
     "text": [
      "     cars  passings\n",
      "0     bmw         3\n",
      "1    audi         7\n",
      "2  toyota         2\n",
      "3  subaru         8\n"
     ]
    }
   ],
   "source": [
    "import pandas as pd\n",
    "\n",
    "# this is a dictionary, 2-dimensional\n",
    "myDataSet = {\n",
    "    'cars': ['bmw', 'audi', 'toyota', 'subaru'],\n",
    "    'passings': [3, 7, 2, 8, 9]\n",
    "}\n",
    "\n",
    "myVariable = pd.DataFrame(myDataSet)\n",
    "\n",
    "print(myVariable)"
   ]
  },
  {
   "cell_type": "code",
   "execution_count": null,
   "metadata": {},
   "outputs": [],
   "source": []
  }
 ],
 "metadata": {
  "kernelspec": {
   "display_name": "base",
   "language": "python",
   "name": "python3"
  },
  "language_info": {
   "codemirror_mode": {
    "name": "ipython",
    "version": 3
   },
   "file_extension": ".py",
   "mimetype": "text/x-python",
   "name": "python",
   "nbconvert_exporter": "python",
   "pygments_lexer": "ipython3",
   "version": "3.11.5"
  }
 },
 "nbformat": 4,
 "nbformat_minor": 2
}
