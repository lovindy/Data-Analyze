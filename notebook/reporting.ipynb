{
 "cells": [
  {
   "cell_type": "code",
   "execution_count": null,
   "metadata": {},
   "outputs": [],
   "source": [
    "# Reporting\n",
    "\n",
    "import matplotlib.pyplot as plt\n",
    "\n",
    "# Example data, replace with actual test and prediction data\n",
    "y_test = [100, 150, 200, 250, 300]\n",
    "y_pred = [110, 140, 210, 240, 310]\n",
    "\n",
    "# Scatter plot of actual vs predicted sales\n",
    "plt.figure(figsize=(10, 6))\n",
    "plt.scatter(y_test, y_pred)\n",
    "plt.xlabel('Actual Sales')\n",
    "plt.ylabel('Predicted Sales')\n",
    "plt.title('Actual vs Predicted Sales')\n",
    "plt.show()\n"
   ]
  }
 ],
 "metadata": {
  "language_info": {
   "name": "python"
  }
 },
 "nbformat": 4,
 "nbformat_minor": 2
}
